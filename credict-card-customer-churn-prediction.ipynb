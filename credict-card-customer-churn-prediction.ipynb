{
 "cells": [
  {
   "cell_type": "code",
   "execution_count": 1,
   "id": "e065d07b",
   "metadata": {
    "_cell_guid": "b1076dfc-b9ad-4769-8c92-a6c4dae69d19",
    "_uuid": "8f2839f25d086af736a60e9eeb907d3b93b6e0e5",
    "execution": {
     "iopub.execute_input": "2025-08-03T14:51:50.372257Z",
     "iopub.status.busy": "2025-08-03T14:51:50.371545Z",
     "iopub.status.idle": "2025-08-03T14:51:52.440182Z",
     "shell.execute_reply": "2025-08-03T14:51:52.438919Z"
    },
    "papermill": {
     "duration": 2.076803,
     "end_time": "2025-08-03T14:51:52.442095",
     "exception": false,
     "start_time": "2025-08-03T14:51:50.365292",
     "status": "completed"
    },
    "tags": []
   },
   "outputs": [],
   "source": [
    "import numpy as np\n",
    "import pandas as pd"
   ]
  },
  {
   "cell_type": "code",
   "execution_count": 2,
   "id": "969a8557",
   "metadata": {
    "execution": {
     "iopub.execute_input": "2025-08-03T14:51:52.452827Z",
     "iopub.status.busy": "2025-08-03T14:51:52.451788Z",
     "iopub.status.idle": "2025-08-03T14:51:52.507266Z",
     "shell.execute_reply": "2025-08-03T14:51:52.506320Z"
    },
    "papermill": {
     "duration": 0.062249,
     "end_time": "2025-08-03T14:51:52.508955",
     "exception": false,
     "start_time": "2025-08-03T14:51:52.446706",
     "status": "completed"
    },
    "tags": []
   },
   "outputs": [],
   "source": [
    "df = pd.read_csv('/kaggle/input/credit-card-customer-churn-prediction/Churn_Modelling.csv')"
   ]
  },
  {
   "cell_type": "code",
   "execution_count": 3,
   "id": "8e8c808a",
   "metadata": {
    "execution": {
     "iopub.execute_input": "2025-08-03T14:51:52.518410Z",
     "iopub.status.busy": "2025-08-03T14:51:52.518104Z",
     "iopub.status.idle": "2025-08-03T14:51:52.547810Z",
     "shell.execute_reply": "2025-08-03T14:51:52.546758Z"
    },
    "papermill": {
     "duration": 0.036589,
     "end_time": "2025-08-03T14:51:52.549756",
     "exception": false,
     "start_time": "2025-08-03T14:51:52.513167",
     "status": "completed"
    },
    "tags": []
   },
   "outputs": [
    {
     "data": {
      "text/html": [
       "<div>\n",
       "<style scoped>\n",
       "    .dataframe tbody tr th:only-of-type {\n",
       "        vertical-align: middle;\n",
       "    }\n",
       "\n",
       "    .dataframe tbody tr th {\n",
       "        vertical-align: top;\n",
       "    }\n",
       "\n",
       "    .dataframe thead th {\n",
       "        text-align: right;\n",
       "    }\n",
       "</style>\n",
       "<table border=\"1\" class=\"dataframe\">\n",
       "  <thead>\n",
       "    <tr style=\"text-align: right;\">\n",
       "      <th></th>\n",
       "      <th>RowNumber</th>\n",
       "      <th>CustomerId</th>\n",
       "      <th>Surname</th>\n",
       "      <th>CreditScore</th>\n",
       "      <th>Geography</th>\n",
       "      <th>Gender</th>\n",
       "      <th>Age</th>\n",
       "      <th>Tenure</th>\n",
       "      <th>Balance</th>\n",
       "      <th>NumOfProducts</th>\n",
       "      <th>HasCrCard</th>\n",
       "      <th>IsActiveMember</th>\n",
       "      <th>EstimatedSalary</th>\n",
       "      <th>Exited</th>\n",
       "    </tr>\n",
       "  </thead>\n",
       "  <tbody>\n",
       "    <tr>\n",
       "      <th>0</th>\n",
       "      <td>1</td>\n",
       "      <td>15634602</td>\n",
       "      <td>Hargrave</td>\n",
       "      <td>619</td>\n",
       "      <td>France</td>\n",
       "      <td>Female</td>\n",
       "      <td>42</td>\n",
       "      <td>2</td>\n",
       "      <td>0.00</td>\n",
       "      <td>1</td>\n",
       "      <td>1</td>\n",
       "      <td>1</td>\n",
       "      <td>101348.88</td>\n",
       "      <td>1</td>\n",
       "    </tr>\n",
       "    <tr>\n",
       "      <th>1</th>\n",
       "      <td>2</td>\n",
       "      <td>15647311</td>\n",
       "      <td>Hill</td>\n",
       "      <td>608</td>\n",
       "      <td>Spain</td>\n",
       "      <td>Female</td>\n",
       "      <td>41</td>\n",
       "      <td>1</td>\n",
       "      <td>83807.86</td>\n",
       "      <td>1</td>\n",
       "      <td>0</td>\n",
       "      <td>1</td>\n",
       "      <td>112542.58</td>\n",
       "      <td>0</td>\n",
       "    </tr>\n",
       "    <tr>\n",
       "      <th>2</th>\n",
       "      <td>3</td>\n",
       "      <td>15619304</td>\n",
       "      <td>Onio</td>\n",
       "      <td>502</td>\n",
       "      <td>France</td>\n",
       "      <td>Female</td>\n",
       "      <td>42</td>\n",
       "      <td>8</td>\n",
       "      <td>159660.80</td>\n",
       "      <td>3</td>\n",
       "      <td>1</td>\n",
       "      <td>0</td>\n",
       "      <td>113931.57</td>\n",
       "      <td>1</td>\n",
       "    </tr>\n",
       "    <tr>\n",
       "      <th>3</th>\n",
       "      <td>4</td>\n",
       "      <td>15701354</td>\n",
       "      <td>Boni</td>\n",
       "      <td>699</td>\n",
       "      <td>France</td>\n",
       "      <td>Female</td>\n",
       "      <td>39</td>\n",
       "      <td>1</td>\n",
       "      <td>0.00</td>\n",
       "      <td>2</td>\n",
       "      <td>0</td>\n",
       "      <td>0</td>\n",
       "      <td>93826.63</td>\n",
       "      <td>0</td>\n",
       "    </tr>\n",
       "    <tr>\n",
       "      <th>4</th>\n",
       "      <td>5</td>\n",
       "      <td>15737888</td>\n",
       "      <td>Mitchell</td>\n",
       "      <td>850</td>\n",
       "      <td>Spain</td>\n",
       "      <td>Female</td>\n",
       "      <td>43</td>\n",
       "      <td>2</td>\n",
       "      <td>125510.82</td>\n",
       "      <td>1</td>\n",
       "      <td>1</td>\n",
       "      <td>1</td>\n",
       "      <td>79084.10</td>\n",
       "      <td>0</td>\n",
       "    </tr>\n",
       "  </tbody>\n",
       "</table>\n",
       "</div>"
      ],
      "text/plain": [
       "   RowNumber  CustomerId   Surname  CreditScore Geography  Gender  Age  \\\n",
       "0          1    15634602  Hargrave          619    France  Female   42   \n",
       "1          2    15647311      Hill          608     Spain  Female   41   \n",
       "2          3    15619304      Onio          502    France  Female   42   \n",
       "3          4    15701354      Boni          699    France  Female   39   \n",
       "4          5    15737888  Mitchell          850     Spain  Female   43   \n",
       "\n",
       "   Tenure    Balance  NumOfProducts  HasCrCard  IsActiveMember  \\\n",
       "0       2       0.00              1          1               1   \n",
       "1       1   83807.86              1          0               1   \n",
       "2       8  159660.80              3          1               0   \n",
       "3       1       0.00              2          0               0   \n",
       "4       2  125510.82              1          1               1   \n",
       "\n",
       "   EstimatedSalary  Exited  \n",
       "0        101348.88       1  \n",
       "1        112542.58       0  \n",
       "2        113931.57       1  \n",
       "3         93826.63       0  \n",
       "4         79084.10       0  "
      ]
     },
     "execution_count": 3,
     "metadata": {},
     "output_type": "execute_result"
    }
   ],
   "source": [
    "df.head()"
   ]
  },
  {
   "cell_type": "code",
   "execution_count": 4,
   "id": "52618a39",
   "metadata": {
    "execution": {
     "iopub.execute_input": "2025-08-03T14:51:52.559874Z",
     "iopub.status.busy": "2025-08-03T14:51:52.559495Z",
     "iopub.status.idle": "2025-08-03T14:51:52.565710Z",
     "shell.execute_reply": "2025-08-03T14:51:52.564940Z"
    },
    "papermill": {
     "duration": 0.013007,
     "end_time": "2025-08-03T14:51:52.567225",
     "exception": false,
     "start_time": "2025-08-03T14:51:52.554218",
     "status": "completed"
    },
    "tags": []
   },
   "outputs": [
    {
     "data": {
      "text/plain": [
       "(10000, 14)"
      ]
     },
     "execution_count": 4,
     "metadata": {},
     "output_type": "execute_result"
    }
   ],
   "source": [
    "df.shape"
   ]
  },
  {
   "cell_type": "code",
   "execution_count": 5,
   "id": "1ee266ca",
   "metadata": {
    "execution": {
     "iopub.execute_input": "2025-08-03T14:51:52.578074Z",
     "iopub.status.busy": "2025-08-03T14:51:52.577224Z",
     "iopub.status.idle": "2025-08-03T14:51:52.608961Z",
     "shell.execute_reply": "2025-08-03T14:51:52.607876Z"
    },
    "papermill": {
     "duration": 0.039073,
     "end_time": "2025-08-03T14:51:52.610873",
     "exception": false,
     "start_time": "2025-08-03T14:51:52.571800",
     "status": "completed"
    },
    "tags": []
   },
   "outputs": [
    {
     "name": "stdout",
     "output_type": "stream",
     "text": [
      "<class 'pandas.core.frame.DataFrame'>\n",
      "RangeIndex: 10000 entries, 0 to 9999\n",
      "Data columns (total 14 columns):\n",
      " #   Column           Non-Null Count  Dtype  \n",
      "---  ------           --------------  -----  \n",
      " 0   RowNumber        10000 non-null  int64  \n",
      " 1   CustomerId       10000 non-null  int64  \n",
      " 2   Surname          10000 non-null  object \n",
      " 3   CreditScore      10000 non-null  int64  \n",
      " 4   Geography        10000 non-null  object \n",
      " 5   Gender           10000 non-null  object \n",
      " 6   Age              10000 non-null  int64  \n",
      " 7   Tenure           10000 non-null  int64  \n",
      " 8   Balance          10000 non-null  float64\n",
      " 9   NumOfProducts    10000 non-null  int64  \n",
      " 10  HasCrCard        10000 non-null  int64  \n",
      " 11  IsActiveMember   10000 non-null  int64  \n",
      " 12  EstimatedSalary  10000 non-null  float64\n",
      " 13  Exited           10000 non-null  int64  \n",
      "dtypes: float64(2), int64(9), object(3)\n",
      "memory usage: 1.1+ MB\n"
     ]
    }
   ],
   "source": [
    "df.info()"
   ]
  },
  {
   "cell_type": "code",
   "execution_count": 6,
   "id": "d1eeac66",
   "metadata": {
    "execution": {
     "iopub.execute_input": "2025-08-03T14:51:52.621355Z",
     "iopub.status.busy": "2025-08-03T14:51:52.621066Z",
     "iopub.status.idle": "2025-08-03T14:51:52.634123Z",
     "shell.execute_reply": "2025-08-03T14:51:52.633174Z"
    },
    "papermill": {
     "duration": 0.020437,
     "end_time": "2025-08-03T14:51:52.636025",
     "exception": false,
     "start_time": "2025-08-03T14:51:52.615588",
     "status": "completed"
    },
    "tags": []
   },
   "outputs": [
    {
     "data": {
      "text/plain": [
       "0"
      ]
     },
     "execution_count": 6,
     "metadata": {},
     "output_type": "execute_result"
    }
   ],
   "source": [
    "df.duplicated().sum()"
   ]
  },
  {
   "cell_type": "code",
   "execution_count": 7,
   "id": "cc726351",
   "metadata": {
    "execution": {
     "iopub.execute_input": "2025-08-03T14:51:52.646304Z",
     "iopub.status.busy": "2025-08-03T14:51:52.646027Z",
     "iopub.status.idle": "2025-08-03T14:51:52.654371Z",
     "shell.execute_reply": "2025-08-03T14:51:52.653700Z"
    },
    "papermill": {
     "duration": 0.015298,
     "end_time": "2025-08-03T14:51:52.656057",
     "exception": false,
     "start_time": "2025-08-03T14:51:52.640759",
     "status": "completed"
    },
    "tags": []
   },
   "outputs": [
    {
     "data": {
      "text/plain": [
       "Exited\n",
       "0    7963\n",
       "1    2037\n",
       "Name: count, dtype: int64"
      ]
     },
     "execution_count": 7,
     "metadata": {},
     "output_type": "execute_result"
    }
   ],
   "source": [
    "df['Exited'].value_counts()"
   ]
  },
  {
   "cell_type": "code",
   "execution_count": 8,
   "id": "124f1b07",
   "metadata": {
    "execution": {
     "iopub.execute_input": "2025-08-03T14:51:52.667728Z",
     "iopub.status.busy": "2025-08-03T14:51:52.667379Z",
     "iopub.status.idle": "2025-08-03T14:51:52.675331Z",
     "shell.execute_reply": "2025-08-03T14:51:52.674612Z"
    },
    "papermill": {
     "duration": 0.016018,
     "end_time": "2025-08-03T14:51:52.676881",
     "exception": false,
     "start_time": "2025-08-03T14:51:52.660863",
     "status": "completed"
    },
    "tags": []
   },
   "outputs": [
    {
     "data": {
      "text/plain": [
       "Geography\n",
       "France     5014\n",
       "Germany    2509\n",
       "Spain      2477\n",
       "Name: count, dtype: int64"
      ]
     },
     "execution_count": 8,
     "metadata": {},
     "output_type": "execute_result"
    }
   ],
   "source": [
    "df['Geography'].value_counts()"
   ]
  },
  {
   "cell_type": "code",
   "execution_count": 9,
   "id": "3d84c560",
   "metadata": {
    "execution": {
     "iopub.execute_input": "2025-08-03T14:51:52.687712Z",
     "iopub.status.busy": "2025-08-03T14:51:52.687235Z",
     "iopub.status.idle": "2025-08-03T14:51:52.695566Z",
     "shell.execute_reply": "2025-08-03T14:51:52.694490Z"
    },
    "papermill": {
     "duration": 0.015577,
     "end_time": "2025-08-03T14:51:52.697190",
     "exception": false,
     "start_time": "2025-08-03T14:51:52.681613",
     "status": "completed"
    },
    "tags": []
   },
   "outputs": [
    {
     "data": {
      "text/plain": [
       "Gender\n",
       "Male      5457\n",
       "Female    4543\n",
       "Name: count, dtype: int64"
      ]
     },
     "execution_count": 9,
     "metadata": {},
     "output_type": "execute_result"
    }
   ],
   "source": [
    "df['Gender'].value_counts()"
   ]
  },
  {
   "cell_type": "code",
   "execution_count": 10,
   "id": "b5946e69",
   "metadata": {
    "execution": {
     "iopub.execute_input": "2025-08-03T14:51:52.708503Z",
     "iopub.status.busy": "2025-08-03T14:51:52.708161Z",
     "iopub.status.idle": "2025-08-03T14:51:52.717026Z",
     "shell.execute_reply": "2025-08-03T14:51:52.716173Z"
    },
    "papermill": {
     "duration": 0.016169,
     "end_time": "2025-08-03T14:51:52.718710",
     "exception": false,
     "start_time": "2025-08-03T14:51:52.702541",
     "status": "completed"
    },
    "tags": []
   },
   "outputs": [],
   "source": [
    "df.drop(columns=['RowNumber','CustomerId', 'Surname'], inplace=True)"
   ]
  },
  {
   "cell_type": "code",
   "execution_count": 11,
   "id": "40161053",
   "metadata": {
    "execution": {
     "iopub.execute_input": "2025-08-03T14:51:52.729611Z",
     "iopub.status.busy": "2025-08-03T14:51:52.729207Z",
     "iopub.status.idle": "2025-08-03T14:51:52.742099Z",
     "shell.execute_reply": "2025-08-03T14:51:52.741246Z"
    },
    "papermill": {
     "duration": 0.020125,
     "end_time": "2025-08-03T14:51:52.743641",
     "exception": false,
     "start_time": "2025-08-03T14:51:52.723516",
     "status": "completed"
    },
    "tags": []
   },
   "outputs": [
    {
     "data": {
      "text/html": [
       "<div>\n",
       "<style scoped>\n",
       "    .dataframe tbody tr th:only-of-type {\n",
       "        vertical-align: middle;\n",
       "    }\n",
       "\n",
       "    .dataframe tbody tr th {\n",
       "        vertical-align: top;\n",
       "    }\n",
       "\n",
       "    .dataframe thead th {\n",
       "        text-align: right;\n",
       "    }\n",
       "</style>\n",
       "<table border=\"1\" class=\"dataframe\">\n",
       "  <thead>\n",
       "    <tr style=\"text-align: right;\">\n",
       "      <th></th>\n",
       "      <th>CreditScore</th>\n",
       "      <th>Geography</th>\n",
       "      <th>Gender</th>\n",
       "      <th>Age</th>\n",
       "      <th>Tenure</th>\n",
       "      <th>Balance</th>\n",
       "      <th>NumOfProducts</th>\n",
       "      <th>HasCrCard</th>\n",
       "      <th>IsActiveMember</th>\n",
       "      <th>EstimatedSalary</th>\n",
       "      <th>Exited</th>\n",
       "    </tr>\n",
       "  </thead>\n",
       "  <tbody>\n",
       "    <tr>\n",
       "      <th>7677</th>\n",
       "      <td>695</td>\n",
       "      <td>France</td>\n",
       "      <td>Male</td>\n",
       "      <td>36</td>\n",
       "      <td>4</td>\n",
       "      <td>161533.00</td>\n",
       "      <td>1</td>\n",
       "      <td>1</td>\n",
       "      <td>0</td>\n",
       "      <td>100940.91</td>\n",
       "      <td>0</td>\n",
       "    </tr>\n",
       "    <tr>\n",
       "      <th>858</th>\n",
       "      <td>456</td>\n",
       "      <td>Spain</td>\n",
       "      <td>Male</td>\n",
       "      <td>32</td>\n",
       "      <td>9</td>\n",
       "      <td>147506.25</td>\n",
       "      <td>1</td>\n",
       "      <td>1</td>\n",
       "      <td>1</td>\n",
       "      <td>135399.21</td>\n",
       "      <td>0</td>\n",
       "    </tr>\n",
       "    <tr>\n",
       "      <th>8760</th>\n",
       "      <td>677</td>\n",
       "      <td>Spain</td>\n",
       "      <td>Female</td>\n",
       "      <td>34</td>\n",
       "      <td>10</td>\n",
       "      <td>171671.90</td>\n",
       "      <td>1</td>\n",
       "      <td>1</td>\n",
       "      <td>1</td>\n",
       "      <td>50777.77</td>\n",
       "      <td>0</td>\n",
       "    </tr>\n",
       "    <tr>\n",
       "      <th>2</th>\n",
       "      <td>502</td>\n",
       "      <td>France</td>\n",
       "      <td>Female</td>\n",
       "      <td>42</td>\n",
       "      <td>8</td>\n",
       "      <td>159660.80</td>\n",
       "      <td>3</td>\n",
       "      <td>1</td>\n",
       "      <td>0</td>\n",
       "      <td>113931.57</td>\n",
       "      <td>1</td>\n",
       "    </tr>\n",
       "    <tr>\n",
       "      <th>9360</th>\n",
       "      <td>552</td>\n",
       "      <td>Germany</td>\n",
       "      <td>Male</td>\n",
       "      <td>39</td>\n",
       "      <td>2</td>\n",
       "      <td>132906.88</td>\n",
       "      <td>1</td>\n",
       "      <td>0</td>\n",
       "      <td>1</td>\n",
       "      <td>149384.43</td>\n",
       "      <td>0</td>\n",
       "    </tr>\n",
       "  </tbody>\n",
       "</table>\n",
       "</div>"
      ],
      "text/plain": [
       "      CreditScore Geography  Gender  Age  Tenure    Balance  NumOfProducts  \\\n",
       "7677          695    France    Male   36       4  161533.00              1   \n",
       "858           456     Spain    Male   32       9  147506.25              1   \n",
       "8760          677     Spain  Female   34      10  171671.90              1   \n",
       "2             502    France  Female   42       8  159660.80              3   \n",
       "9360          552   Germany    Male   39       2  132906.88              1   \n",
       "\n",
       "      HasCrCard  IsActiveMember  EstimatedSalary  Exited  \n",
       "7677          1               0        100940.91       0  \n",
       "858           1               1        135399.21       0  \n",
       "8760          1               1         50777.77       0  \n",
       "2             1               0        113931.57       1  \n",
       "9360          0               1        149384.43       0  "
      ]
     },
     "execution_count": 11,
     "metadata": {},
     "output_type": "execute_result"
    }
   ],
   "source": [
    "df.sample(5)"
   ]
  },
  {
   "cell_type": "code",
   "execution_count": 12,
   "id": "0d781ea4",
   "metadata": {
    "execution": {
     "iopub.execute_input": "2025-08-03T14:51:52.755113Z",
     "iopub.status.busy": "2025-08-03T14:51:52.754330Z",
     "iopub.status.idle": "2025-08-03T14:51:52.766212Z",
     "shell.execute_reply": "2025-08-03T14:51:52.765160Z"
    },
    "papermill": {
     "duration": 0.019171,
     "end_time": "2025-08-03T14:51:52.767943",
     "exception": false,
     "start_time": "2025-08-03T14:51:52.748772",
     "status": "completed"
    },
    "tags": []
   },
   "outputs": [],
   "source": [
    "df = pd.get_dummies(df,columns=['Geography', 'Gender'], drop_first=True) # ohe"
   ]
  },
  {
   "cell_type": "code",
   "execution_count": 13,
   "id": "c6b574f2",
   "metadata": {
    "execution": {
     "iopub.execute_input": "2025-08-03T14:51:52.779418Z",
     "iopub.status.busy": "2025-08-03T14:51:52.779093Z",
     "iopub.status.idle": "2025-08-03T14:51:54.602539Z",
     "shell.execute_reply": "2025-08-03T14:51:54.601374Z"
    },
    "papermill": {
     "duration": 1.831544,
     "end_time": "2025-08-03T14:51:54.604856",
     "exception": false,
     "start_time": "2025-08-03T14:51:52.773312",
     "status": "completed"
    },
    "tags": []
   },
   "outputs": [],
   "source": [
    "X = df.drop(columns=['Exited'])\n",
    "y = df['Exited']\n",
    "from sklearn.model_selection import train_test_split\n",
    "X_train, X_test, y_train, y_test = train_test_split(X,y,test_size=0.2, random_state=1)"
   ]
  },
  {
   "cell_type": "code",
   "execution_count": 14,
   "id": "1cc755f2",
   "metadata": {
    "execution": {
     "iopub.execute_input": "2025-08-03T14:51:54.616656Z",
     "iopub.status.busy": "2025-08-03T14:51:54.616057Z",
     "iopub.status.idle": "2025-08-03T14:51:54.650787Z",
     "shell.execute_reply": "2025-08-03T14:51:54.649971Z"
    },
    "papermill": {
     "duration": 0.042739,
     "end_time": "2025-08-03T14:51:54.652738",
     "exception": false,
     "start_time": "2025-08-03T14:51:54.609999",
     "status": "completed"
    },
    "tags": []
   },
   "outputs": [],
   "source": [
    "from sklearn.preprocessing import StandardScaler\n",
    "std = StandardScaler()\n",
    "X_train_scaled = std.fit_transform(X_train)\n",
    "X_test_scaled = std.transform(X_test)"
   ]
  },
  {
   "cell_type": "code",
   "execution_count": 15,
   "id": "21d51e8f",
   "metadata": {
    "execution": {
     "iopub.execute_input": "2025-08-03T14:51:54.664450Z",
     "iopub.status.busy": "2025-08-03T14:51:54.663794Z",
     "iopub.status.idle": "2025-08-03T14:52:12.167817Z",
     "shell.execute_reply": "2025-08-03T14:52:12.166702Z"
    },
    "papermill": {
     "duration": 17.511746,
     "end_time": "2025-08-03T14:52:12.169541",
     "exception": false,
     "start_time": "2025-08-03T14:51:54.657795",
     "status": "completed"
    },
    "tags": []
   },
   "outputs": [
    {
     "name": "stderr",
     "output_type": "stream",
     "text": [
      "2025-08-03 14:51:56.608941: E external/local_xla/xla/stream_executor/cuda/cuda_fft.cc:477] Unable to register cuFFT factory: Attempting to register factory for plugin cuFFT when one has already been registered\n",
      "WARNING: All log messages before absl::InitializeLog() is called are written to STDERR\n",
      "E0000 00:00:1754232716.861374      13 cuda_dnn.cc:8310] Unable to register cuDNN factory: Attempting to register factory for plugin cuDNN when one has already been registered\n",
      "E0000 00:00:1754232716.928843      13 cuda_blas.cc:1418] Unable to register cuBLAS factory: Attempting to register factory for plugin cuBLAS when one has already been registered\n"
     ]
    }
   ],
   "source": [
    "import tensorflow\n",
    "from tensorflow import keras\n",
    "from tensorflow.keras import Sequential\n",
    "from tensorflow.keras.layers import Dense, Input"
   ]
  },
  {
   "cell_type": "code",
   "execution_count": 16,
   "id": "5a9e76bc",
   "metadata": {
    "execution": {
     "iopub.execute_input": "2025-08-03T14:52:12.182639Z",
     "iopub.status.busy": "2025-08-03T14:52:12.182007Z",
     "iopub.status.idle": "2025-08-03T14:52:12.278081Z",
     "shell.execute_reply": "2025-08-03T14:52:12.276859Z"
    },
    "papermill": {
     "duration": 0.105932,
     "end_time": "2025-08-03T14:52:12.280817",
     "exception": false,
     "start_time": "2025-08-03T14:52:12.174885",
     "status": "completed"
    },
    "tags": []
   },
   "outputs": [
    {
     "name": "stderr",
     "output_type": "stream",
     "text": [
      "2025-08-03 14:52:12.193109: E external/local_xla/xla/stream_executor/cuda/cuda_driver.cc:152] failed call to cuInit: INTERNAL: CUDA error: Failed call to cuInit: UNKNOWN ERROR (303)\n"
     ]
    }
   ],
   "source": [
    "model = Sequential() # making model\n",
    "\n",
    "model.add(Input(shape=(11,)))                 # Input layer explicitly\n",
    "model.add(Dense(3, activation='sigmoid'))     # 3 neurons in Hidden layer\n",
    "model.add(Dense(1, activation='sigmoid'))     # Output layer"
   ]
  },
  {
   "cell_type": "code",
   "execution_count": 17,
   "id": "cd2a355b",
   "metadata": {
    "execution": {
     "iopub.execute_input": "2025-08-03T14:52:12.292659Z",
     "iopub.status.busy": "2025-08-03T14:52:12.292340Z",
     "iopub.status.idle": "2025-08-03T14:52:12.310182Z",
     "shell.execute_reply": "2025-08-03T14:52:12.308941Z"
    },
    "papermill": {
     "duration": 0.025724,
     "end_time": "2025-08-03T14:52:12.311898",
     "exception": false,
     "start_time": "2025-08-03T14:52:12.286174",
     "status": "completed"
    },
    "tags": []
   },
   "outputs": [
    {
     "data": {
      "text/html": [
       "<pre style=\"white-space:pre;overflow-x:auto;line-height:normal;font-family:Menlo,'DejaVu Sans Mono',consolas,'Courier New',monospace\"><span style=\"font-weight: bold\">Model: \"sequential\"</span>\n",
       "</pre>\n"
      ],
      "text/plain": [
       "\u001b[1mModel: \"sequential\"\u001b[0m\n"
      ]
     },
     "metadata": {},
     "output_type": "display_data"
    },
    {
     "data": {
      "text/html": [
       "<pre style=\"white-space:pre;overflow-x:auto;line-height:normal;font-family:Menlo,'DejaVu Sans Mono',consolas,'Courier New',monospace\">┏━━━━━━━━━━━━━━━━━━━━━━━━━━━━━━━━━┳━━━━━━━━━━━━━━━━━━━━━━━━┳━━━━━━━━━━━━━━━┓\n",
       "┃<span style=\"font-weight: bold\"> Layer (type)                    </span>┃<span style=\"font-weight: bold\"> Output Shape           </span>┃<span style=\"font-weight: bold\">       Param # </span>┃\n",
       "┡━━━━━━━━━━━━━━━━━━━━━━━━━━━━━━━━━╇━━━━━━━━━━━━━━━━━━━━━━━━╇━━━━━━━━━━━━━━━┩\n",
       "│ dense (<span style=\"color: #0087ff; text-decoration-color: #0087ff\">Dense</span>)                   │ (<span style=\"color: #00d7ff; text-decoration-color: #00d7ff\">None</span>, <span style=\"color: #00af00; text-decoration-color: #00af00\">3</span>)              │            <span style=\"color: #00af00; text-decoration-color: #00af00\">36</span> │\n",
       "├─────────────────────────────────┼────────────────────────┼───────────────┤\n",
       "│ dense_1 (<span style=\"color: #0087ff; text-decoration-color: #0087ff\">Dense</span>)                 │ (<span style=\"color: #00d7ff; text-decoration-color: #00d7ff\">None</span>, <span style=\"color: #00af00; text-decoration-color: #00af00\">1</span>)              │             <span style=\"color: #00af00; text-decoration-color: #00af00\">4</span> │\n",
       "└─────────────────────────────────┴────────────────────────┴───────────────┘\n",
       "</pre>\n"
      ],
      "text/plain": [
       "┏━━━━━━━━━━━━━━━━━━━━━━━━━━━━━━━━━┳━━━━━━━━━━━━━━━━━━━━━━━━┳━━━━━━━━━━━━━━━┓\n",
       "┃\u001b[1m \u001b[0m\u001b[1mLayer (type)                   \u001b[0m\u001b[1m \u001b[0m┃\u001b[1m \u001b[0m\u001b[1mOutput Shape          \u001b[0m\u001b[1m \u001b[0m┃\u001b[1m \u001b[0m\u001b[1m      Param #\u001b[0m\u001b[1m \u001b[0m┃\n",
       "┡━━━━━━━━━━━━━━━━━━━━━━━━━━━━━━━━━╇━━━━━━━━━━━━━━━━━━━━━━━━╇━━━━━━━━━━━━━━━┩\n",
       "│ dense (\u001b[38;5;33mDense\u001b[0m)                   │ (\u001b[38;5;45mNone\u001b[0m, \u001b[38;5;34m3\u001b[0m)              │            \u001b[38;5;34m36\u001b[0m │\n",
       "├─────────────────────────────────┼────────────────────────┼───────────────┤\n",
       "│ dense_1 (\u001b[38;5;33mDense\u001b[0m)                 │ (\u001b[38;5;45mNone\u001b[0m, \u001b[38;5;34m1\u001b[0m)              │             \u001b[38;5;34m4\u001b[0m │\n",
       "└─────────────────────────────────┴────────────────────────┴───────────────┘\n"
      ]
     },
     "metadata": {},
     "output_type": "display_data"
    },
    {
     "data": {
      "text/html": [
       "<pre style=\"white-space:pre;overflow-x:auto;line-height:normal;font-family:Menlo,'DejaVu Sans Mono',consolas,'Courier New',monospace\"><span style=\"font-weight: bold\"> Total params: </span><span style=\"color: #00af00; text-decoration-color: #00af00\">40</span> (160.00 B)\n",
       "</pre>\n"
      ],
      "text/plain": [
       "\u001b[1m Total params: \u001b[0m\u001b[38;5;34m40\u001b[0m (160.00 B)\n"
      ]
     },
     "metadata": {},
     "output_type": "display_data"
    },
    {
     "data": {
      "text/html": [
       "<pre style=\"white-space:pre;overflow-x:auto;line-height:normal;font-family:Menlo,'DejaVu Sans Mono',consolas,'Courier New',monospace\"><span style=\"font-weight: bold\"> Trainable params: </span><span style=\"color: #00af00; text-decoration-color: #00af00\">40</span> (160.00 B)\n",
       "</pre>\n"
      ],
      "text/plain": [
       "\u001b[1m Trainable params: \u001b[0m\u001b[38;5;34m40\u001b[0m (160.00 B)\n"
      ]
     },
     "metadata": {},
     "output_type": "display_data"
    },
    {
     "data": {
      "text/html": [
       "<pre style=\"white-space:pre;overflow-x:auto;line-height:normal;font-family:Menlo,'DejaVu Sans Mono',consolas,'Courier New',monospace\"><span style=\"font-weight: bold\"> Non-trainable params: </span><span style=\"color: #00af00; text-decoration-color: #00af00\">0</span> (0.00 B)\n",
       "</pre>\n"
      ],
      "text/plain": [
       "\u001b[1m Non-trainable params: \u001b[0m\u001b[38;5;34m0\u001b[0m (0.00 B)\n"
      ]
     },
     "metadata": {},
     "output_type": "display_data"
    }
   ],
   "source": [
    "model.summary() # gives summary of model"
   ]
  },
  {
   "cell_type": "code",
   "execution_count": 18,
   "id": "c7fb9740",
   "metadata": {
    "execution": {
     "iopub.execute_input": "2025-08-03T14:52:12.325138Z",
     "iopub.status.busy": "2025-08-03T14:52:12.324790Z",
     "iopub.status.idle": "2025-08-03T14:52:12.341067Z",
     "shell.execute_reply": "2025-08-03T14:52:12.340071Z"
    },
    "papermill": {
     "duration": 0.02476,
     "end_time": "2025-08-03T14:52:12.342898",
     "exception": false,
     "start_time": "2025-08-03T14:52:12.318138",
     "status": "completed"
    },
    "tags": []
   },
   "outputs": [],
   "source": [
    "model.compile(loss='binary_crossentropy', optimizer='Adam')"
   ]
  },
  {
   "cell_type": "code",
   "execution_count": 19,
   "id": "35463118",
   "metadata": {
    "execution": {
     "iopub.execute_input": "2025-08-03T14:52:12.356379Z",
     "iopub.status.busy": "2025-08-03T14:52:12.356047Z",
     "iopub.status.idle": "2025-08-03T14:52:19.094124Z",
     "shell.execute_reply": "2025-08-03T14:52:19.093059Z"
    },
    "papermill": {
     "duration": 6.746484,
     "end_time": "2025-08-03T14:52:19.095767",
     "exception": false,
     "start_time": "2025-08-03T14:52:12.349283",
     "status": "completed"
    },
    "tags": []
   },
   "outputs": [
    {
     "name": "stdout",
     "output_type": "stream",
     "text": [
      "Epoch 1/10\n",
      "\u001b[1m250/250\u001b[0m \u001b[32m━━━━━━━━━━━━━━━━━━━━\u001b[0m\u001b[37m\u001b[0m \u001b[1m2s\u001b[0m 2ms/step - loss: 0.5599\n",
      "Epoch 2/10\n",
      "\u001b[1m250/250\u001b[0m \u001b[32m━━━━━━━━━━━━━━━━━━━━\u001b[0m\u001b[37m\u001b[0m \u001b[1m0s\u001b[0m 2ms/step - loss: 0.4935\n",
      "Epoch 3/10\n",
      "\u001b[1m250/250\u001b[0m \u001b[32m━━━━━━━━━━━━━━━━━━━━\u001b[0m\u001b[37m\u001b[0m \u001b[1m0s\u001b[0m 2ms/step - loss: 0.4764\n",
      "Epoch 4/10\n",
      "\u001b[1m250/250\u001b[0m \u001b[32m━━━━━━━━━━━━━━━━━━━━\u001b[0m\u001b[37m\u001b[0m \u001b[1m1s\u001b[0m 2ms/step - loss: 0.4562\n",
      "Epoch 5/10\n",
      "\u001b[1m250/250\u001b[0m \u001b[32m━━━━━━━━━━━━━━━━━━━━\u001b[0m\u001b[37m\u001b[0m \u001b[1m1s\u001b[0m 2ms/step - loss: 0.4432\n",
      "Epoch 6/10\n",
      "\u001b[1m250/250\u001b[0m \u001b[32m━━━━━━━━━━━━━━━━━━━━\u001b[0m\u001b[37m\u001b[0m \u001b[1m0s\u001b[0m 2ms/step - loss: 0.4355\n",
      "Epoch 7/10\n",
      "\u001b[1m250/250\u001b[0m \u001b[32m━━━━━━━━━━━━━━━━━━━━\u001b[0m\u001b[37m\u001b[0m \u001b[1m0s\u001b[0m 2ms/step - loss: 0.4178\n",
      "Epoch 8/10\n",
      "\u001b[1m250/250\u001b[0m \u001b[32m━━━━━━━━━━━━━━━━━━━━\u001b[0m\u001b[37m\u001b[0m \u001b[1m1s\u001b[0m 2ms/step - loss: 0.4241\n",
      "Epoch 9/10\n",
      "\u001b[1m250/250\u001b[0m \u001b[32m━━━━━━━━━━━━━━━━━━━━\u001b[0m\u001b[37m\u001b[0m \u001b[1m1s\u001b[0m 2ms/step - loss: 0.4248\n",
      "Epoch 10/10\n",
      "\u001b[1m250/250\u001b[0m \u001b[32m━━━━━━━━━━━━━━━━━━━━\u001b[0m\u001b[37m\u001b[0m \u001b[1m1s\u001b[0m 2ms/step - loss: 0.4187\n"
     ]
    },
    {
     "data": {
      "text/plain": [
       "<keras.src.callbacks.history.History at 0x7e972cb6aa50>"
      ]
     },
     "execution_count": 19,
     "metadata": {},
     "output_type": "execute_result"
    }
   ],
   "source": [
    "model.fit(X_train_scaled, y_train, epochs=10)"
   ]
  },
  {
   "cell_type": "code",
   "execution_count": 20,
   "id": "0ebc2091",
   "metadata": {
    "execution": {
     "iopub.execute_input": "2025-08-03T14:52:19.121487Z",
     "iopub.status.busy": "2025-08-03T14:52:19.121124Z",
     "iopub.status.idle": "2025-08-03T14:52:19.132126Z",
     "shell.execute_reply": "2025-08-03T14:52:19.131236Z"
    },
    "papermill": {
     "duration": 0.026199,
     "end_time": "2025-08-03T14:52:19.133905",
     "exception": false,
     "start_time": "2025-08-03T14:52:19.107706",
     "status": "completed"
    },
    "tags": []
   },
   "outputs": [
    {
     "data": {
      "text/plain": [
       "[array([[ 0.2727516 , -0.04331785,  0.04041935],\n",
       "        [-0.65216964, -0.7426041 ,  2.2340367 ],\n",
       "        [ 0.10863942,  0.03231054,  0.06434797],\n",
       "        [-0.8332037 ,  0.37645727,  0.08937547],\n",
       "        [-0.45277497,  1.3663852 ,  0.22720708],\n",
       "        [-0.17656712,  0.11808569, -0.16371933],\n",
       "        [ 1.0200778 ,  0.56220984, -0.04331625],\n",
       "        [ 0.25503916, -0.2555011 ,  0.0195551 ],\n",
       "        [-0.6582969 , -0.38589194,  0.2131032 ],\n",
       "        [-0.28554597,  0.24430487, -0.01057502],\n",
       "        [ 0.62673265,  0.196974  , -0.14104536]], dtype=float32),\n",
       " array([ 0.5176463 ,  0.8339076 , -0.32519844], dtype=float32)]"
      ]
     },
     "execution_count": 20,
     "metadata": {},
     "output_type": "execute_result"
    }
   ],
   "source": [
    "model.layers[0].get_weights() # to see weights"
   ]
  },
  {
   "cell_type": "code",
   "execution_count": 21,
   "id": "e3bd7e3b",
   "metadata": {
    "execution": {
     "iopub.execute_input": "2025-08-03T14:52:19.158622Z",
     "iopub.status.busy": "2025-08-03T14:52:19.158331Z",
     "iopub.status.idle": "2025-08-03T14:52:19.449630Z",
     "shell.execute_reply": "2025-08-03T14:52:19.448831Z"
    },
    "papermill": {
     "duration": 0.30617,
     "end_time": "2025-08-03T14:52:19.451462",
     "exception": false,
     "start_time": "2025-08-03T14:52:19.145292",
     "status": "completed"
    },
    "tags": []
   },
   "outputs": [
    {
     "name": "stdout",
     "output_type": "stream",
     "text": [
      "\u001b[1m63/63\u001b[0m \u001b[32m━━━━━━━━━━━━━━━━━━━━\u001b[0m\u001b[37m\u001b[0m \u001b[1m0s\u001b[0m 2ms/step\n"
     ]
    }
   ],
   "source": [
    "# prediction\n",
    "y_log = model.predict(X_test_scaled)"
   ]
  },
  {
   "cell_type": "code",
   "execution_count": null,
   "id": "4cd30e3e",
   "metadata": {
    "papermill": {
     "duration": 0.01093,
     "end_time": "2025-08-03T14:52:19.474037",
     "exception": false,
     "start_time": "2025-08-03T14:52:19.463107",
     "status": "completed"
    },
    "tags": []
   },
   "outputs": [],
   "source": []
  }
 ],
 "metadata": {
  "kaggle": {
   "accelerator": "none",
   "dataSources": [
    {
     "datasetId": 869651,
     "sourceId": 1481789,
     "sourceType": "datasetVersion"
    }
   ],
   "dockerImageVersionId": 31089,
   "isGpuEnabled": false,
   "isInternetEnabled": true,
   "language": "python",
   "sourceType": "notebook"
  },
  "kernelspec": {
   "display_name": "Python 3",
   "language": "python",
   "name": "python3"
  },
  "language_info": {
   "codemirror_mode": {
    "name": "ipython",
    "version": 3
   },
   "file_extension": ".py",
   "mimetype": "text/x-python",
   "name": "python",
   "nbconvert_exporter": "python",
   "pygments_lexer": "ipython3",
   "version": "3.11.13"
  },
  "papermill": {
   "default_parameters": {},
   "duration": 37.254333,
   "end_time": "2025-08-03T14:52:22.442236",
   "environment_variables": {},
   "exception": null,
   "input_path": "__notebook__.ipynb",
   "output_path": "__notebook__.ipynb",
   "parameters": {},
   "start_time": "2025-08-03T14:51:45.187903",
   "version": "2.6.0"
  }
 },
 "nbformat": 4,
 "nbformat_minor": 5
}
